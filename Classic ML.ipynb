{
 "cells": [
  {
   "cell_type": "code",
   "execution_count": 5,
   "id": "da89090c",
   "metadata": {},
   "outputs": [],
   "source": [
    "import pandas as pd\n",
    "from sklearn.feature_extraction.text import CountVectorizer\n",
    "from sklearn.linear_model import LogisticRegression\n",
    "from sklearn.feature_extraction.text import TfidfVectorizer\n",
    "from sklearn.svm import SVC"
   ]
  },
  {
   "cell_type": "markdown",
   "id": "ee0ee295",
   "metadata": {},
   "source": [
    "# Load data"
   ]
  },
  {
   "cell_type": "code",
   "execution_count": 2,
   "id": "dcd21781",
   "metadata": {},
   "outputs": [],
   "source": [
    "data = pd.read_csv(\"Doyle_Christie_dataset/train.csv\")\n",
    "data = data.drop(columns=['Unnamed: 0',])"
   ]
  },
  {
   "cell_type": "code",
   "execution_count": 3,
   "id": "97287bb1",
   "metadata": {},
   "outputs": [],
   "source": [
    "test_data = pd.read_csv(\"Doyle_Christie_dataset/test.csv\")\n",
    "test_data = test_data.drop(columns=['Unnamed: 0',])\n",
    "test_data['labels'] = test_data['author'].apply(lambda x: 0 if x == 'Doyle' else 1)"
   ]
  },
  {
   "cell_type": "code",
   "execution_count": 4,
   "id": "f96420f6",
   "metadata": {},
   "outputs": [],
   "source": [
    "data['labels'] = data['author'].apply(lambda x: 0 if x == 'Doyle' else 1)"
   ]
  },
  {
   "cell_type": "markdown",
   "id": "cd602f6e",
   "metadata": {},
   "source": [
    "# Functions"
   ]
  },
  {
   "cell_type": "code",
   "execution_count": 8,
   "id": "b0d9acc1",
   "metadata": {},
   "outputs": [],
   "source": [
    "def simple_logistic_classify(X_tr, y_tr, X_test, y_test, description):\n",
    "    model = LogisticRegression().fit(X_tr, y_tr)\n",
    "    score = model.score(X_test, y_test)\n",
    "    print('Logreg + ', description)\n",
    "    print('Test Score: ', score)\n",
    "    print()\n",
    "    return model\n",
    "\n",
    "def svm_classify(X_tr, y_tr, X_test, y_test, description):\n",
    "    model = SVC().fit(X_tr, y_tr)\n",
    "    score = model.score(X_test, y_test)\n",
    "    print('SVM + ', description)\n",
    "    print('Test Score: ', score)\n",
    "    print()\n",
    "    return model"
   ]
  },
  {
   "cell_type": "code",
   "execution_count": 10,
   "id": "3bc933be",
   "metadata": {},
   "outputs": [],
   "source": [
    "def main(data, test_data):\n",
    "    bow_vect = CountVectorizer()\n",
    "    bow_train = bow_vect.fit_transform(data['sentence'])\n",
    "    bow_test = bow_vect.transform(test_data['sentence'])\n",
    "    \n",
    "    bow_model = simple_logistic_classify(X_tr = bow_train, \n",
    "                                     y_tr = data['labels'],\n",
    "                                     X_test = bow_test, \n",
    "                                     y_test = test_data['labels'], \n",
    "                                     description='bag of words')\n",
    "    \n",
    "    tfidf_vect = TfidfVectorizer()\n",
    "    tfidf_train = tfidf_vect.fit_transform(data['sentence'])\n",
    "    tfidf_test = tfidf_vect.transform(test_data['sentence'])\n",
    "    \n",
    "    tfidf_model = simple_logistic_classify(X_tr = tfidf_train, \n",
    "                                       y_tr = data['labels'],\n",
    "                                       X_test = tfidf_test,\n",
    "                                       y_test = test_data['labels'], \n",
    "                                       description='tf-idf')\n",
    "    \n",
    "    svm_model = svm_classify(X_tr = tfidf_train, \n",
    "                           y_tr = data['labels'],\n",
    "                           X_test = tfidf_test,\n",
    "                           y_test = test_data['labels'], \n",
    "                            description='tf-idf')"
   ]
  },
  {
   "cell_type": "code",
   "execution_count": 11,
   "id": "2d8099a5",
   "metadata": {},
   "outputs": [
    {
     "name": "stderr",
     "output_type": "stream",
     "text": [
      "/home/antonauna/.local/lib/python3.10/site-packages/sklearn/linear_model/_logistic.py:444: ConvergenceWarning: lbfgs failed to converge (status=1):\n",
      "STOP: TOTAL NO. of ITERATIONS REACHED LIMIT.\n",
      "\n",
      "Increase the number of iterations (max_iter) or scale the data as shown in:\n",
      "    https://scikit-learn.org/stable/modules/preprocessing.html\n",
      "Please also refer to the documentation for alternative solver options:\n",
      "    https://scikit-learn.org/stable/modules/linear_model.html#logistic-regression\n",
      "  n_iter_i = _check_optimize_result(\n"
     ]
    },
    {
     "name": "stdout",
     "output_type": "stream",
     "text": [
      "Logreg +  bag of words\n",
      "Test Score:  0.7415\n",
      "\n",
      "Logreg +  tf-idf\n",
      "Test Score:  0.7455\n",
      "\n",
      "SVM +  tf-idf\n",
      "Test Score:  0.757\n",
      "\n"
     ]
    }
   ],
   "source": [
    "main(data=data, test_data=test_data)"
   ]
  }
 ],
 "metadata": {
  "kernelspec": {
   "display_name": "Python 3 (ipykernel)",
   "language": "python",
   "name": "python3"
  },
  "language_info": {
   "codemirror_mode": {
    "name": "ipython",
    "version": 3
   },
   "file_extension": ".py",
   "mimetype": "text/x-python",
   "name": "python",
   "nbconvert_exporter": "python",
   "pygments_lexer": "ipython3",
   "version": "3.10.6"
  }
 },
 "nbformat": 4,
 "nbformat_minor": 5
}
