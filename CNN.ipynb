{
 "cells": [
  {
   "cell_type": "code",
   "execution_count": 1,
   "id": "0505b63b",
   "metadata": {},
   "outputs": [],
   "source": [
    "import pandas as pd\n",
    "from tqdm.notebook import tqdm\n",
    "import torch\n",
    "import numpy as np\n",
    "import torch.nn as nn\n",
    "import torch.nn.functional as F\n",
    "import gensim.downloader\n",
    "from torch.utils.data import Dataset, DataLoader"
   ]
  },
  {
   "cell_type": "code",
   "execution_count": 2,
   "id": "15457527",
   "metadata": {},
   "outputs": [],
   "source": [
    "device = torch.device('cuda')"
   ]
  },
  {
   "cell_type": "code",
   "execution_count": 3,
   "id": "449543a8",
   "metadata": {},
   "outputs": [],
   "source": [
    "wv = gensim.downloader.load('word2vec-google-news-300')"
   ]
  },
  {
   "cell_type": "markdown",
   "id": "2c336958",
   "metadata": {},
   "source": [
    "# Load data"
   ]
  },
  {
   "cell_type": "code",
   "execution_count": 4,
   "id": "f2998386",
   "metadata": {},
   "outputs": [],
   "source": [
    "data = pd.read_csv(\"Doyle_Christie_dataset/train.csv\")\n",
    "data = data.drop(columns=['Unnamed: 0',])\n",
    "data['labels'] = data['author'].apply(lambda x: 0 if x == 'Doyle' else 1)"
   ]
  },
  {
   "cell_type": "code",
   "execution_count": 5,
   "id": "e832aa90",
   "metadata": {},
   "outputs": [],
   "source": [
    "test_data = pd.read_csv(\"Doyle_Christie_dataset/test.csv\")\n",
    "test_data = test_data.drop(columns=['Unnamed: 0',])\n",
    "test_data['labels'] = test_data['author'].apply(lambda x: 0 if x == 'Doyle' else 1)"
   ]
  },
  {
   "cell_type": "markdown",
   "id": "25a577a0",
   "metadata": {},
   "source": [
    "# Functions"
   ]
  },
  {
   "cell_type": "code",
   "execution_count": 6,
   "id": "678a7aa9",
   "metadata": {},
   "outputs": [],
   "source": [
    "# это код из статьи\n",
    "\n",
    "def process_dataset(dataset, model, vocabulary, inverse_vocabulary):\n",
    "    \n",
    "    processed_dataset = []\n",
    "    \n",
    "    for index, row in tqdm(dataset.iterrows()):\n",
    "        sentence = row['sentence']\n",
    "        q2n = []  # q2n -> question numbers representation\n",
    "        for word in sentence.lower().split():\n",
    "\n",
    "            # Check for unwanted words\n",
    "            if word not in model.key_to_index.keys():\n",
    "                continue\n",
    "\n",
    "            if word not in vocabulary:\n",
    "                vocabulary[word] = len(inverse_vocabulary)\n",
    "                q2n.append(len(inverse_vocabulary))\n",
    "                inverse_vocabulary.append(word)\n",
    "            else:\n",
    "                q2n.append(vocabulary[word])\n",
    "            \n",
    "        processed_dataset.append(torch.tensor(q2n))\n",
    "                    \n",
    "    return vocabulary, inverse_vocabulary, processed_dataset\n",
    "\n",
    "\n",
    "def prepare_embeddings(model, train, valid, test):\n",
    "    vocabulary = dict()\n",
    "    inverse_vocabulary = ['<unk>']\n",
    "\n",
    "    # Iterate over the questions only of both training and test datasets\n",
    "    vocabulary, inverse_vocabulary, processed_train = process_dataset(train, model, vocabulary, inverse_vocabulary)\n",
    "    vocabulary, inverse_vocabulary, processed_valid = process_dataset(valid, model, vocabulary, inverse_vocabulary)\n",
    "    vocabulary, inverse_vocabulary, processed_test = process_dataset(test, model, vocabulary, inverse_vocabulary)\n",
    "\n",
    "    embedding_dim = model.vector_size\n",
    "    embeddings = 1 * np.random.randn(len(vocabulary) + 1, embedding_dim)  # This will be the embedding matrix\n",
    "    embeddings[0] = 0  # So that the padding will be ignored\n",
    "\n",
    "    # Build the embedding matrix\n",
    "    for word, index in vocabulary.items():\n",
    "        if word in model.key_to_index.keys():\n",
    "            embeddings[index] = model.word_vec(word)\n",
    "\n",
    "    return embeddings, embedding_dim, processed_train, processed_valid, processed_test"
   ]
  },
  {
   "cell_type": "code",
   "execution_count": 7,
   "id": "b92c7a21",
   "metadata": {},
   "outputs": [],
   "source": [
    "# это код из тетрадки Семена Сорокина?\n",
    "\n",
    "def padding(sequence, sequence_length=60):\n",
    "\n",
    "    if len(sequence)< sequence_length:\n",
    "        add_pad = sequence_length - len(sequence)\n",
    "        return torch.cat((sequence, torch.tensor([0,]*add_pad)), 0)\n",
    "    else:\n",
    "        return sequence[:sequence_length]"
   ]
  },
  {
   "cell_type": "code",
   "execution_count": 8,
   "id": "16a245e1",
   "metadata": {},
   "outputs": [],
   "source": [
    "class GendersDataset(Dataset):\n",
    "    def __init__(self, data, labels):\n",
    "        self.labels = torch.tensor([int(l) for l in labels], dtype=torch.int64)\n",
    "        self.data = [torch.tensor(row, dtype=torch.int64) for row in data]\n",
    "\n",
    "    def __len__(self):\n",
    "        return len(self.labels)\n",
    "\n",
    "    def __getitem__(self, idx):\n",
    "        \n",
    "        label = self.labels[idx]\n",
    "        data = self.data[idx]\n",
    "\n",
    "        return label, data"
   ]
  },
  {
   "cell_type": "code",
   "execution_count": 9,
   "id": "556c721e",
   "metadata": {},
   "outputs": [],
   "source": [
    "class CNN(nn.Module):\n",
    "    def __init__(self, matrix, embedding_dim, n_filters, filter_sizes, output_dim, dropout_proba):\n",
    "        super().__init__()\n",
    "        \n",
    "        self.embedding = torch.nn.Embedding.from_pretrained(torch.Tensor(matrix))\n",
    "        \n",
    "        self.conv_0 = nn.Conv2d(in_channels=1, \n",
    "                                out_channels=n_filters, \n",
    "                                kernel_size=(filter_sizes[0], embedding_dim))\n",
    "        self.conv_1 = nn.Conv2d(in_channels=1, \n",
    "                                out_channels=n_filters, \n",
    "                                kernel_size=(filter_sizes[1], embedding_dim))\n",
    "        self.conv_2 = nn.Conv2d(in_channels=1, \n",
    "                                out_channels=n_filters, \n",
    "                                kernel_size=(filter_sizes[2], embedding_dim))\n",
    "        \n",
    "        self.fc = nn.Linear(len(filter_sizes) * n_filters, output_dim)\n",
    "        self.dropout = nn.Dropout(dropout_proba)\n",
    "        \n",
    "    def forward(self, x):\n",
    "        #x = [batch, sent_len]\n",
    "        embedded = self.embedding(x) # [batch, sent_len, emb_dim]\n",
    "\n",
    "        embedded = embedded.unsqueeze(1) # [batch, 1, sent_len, emb]\n",
    "        \n",
    "        # self.conv_0(embedded).shape # [batch, n_filters, sent_len-1, 1]\n",
    "               \n",
    "        conved_0 = F.relu(self.conv_0(embedded).squeeze(3)) # [batch, n_filters, sent_len-1]\n",
    "        conved_1 = F.relu(self.conv_1(embedded).squeeze(3)) # [batch, n_filters, sent_len-2]\n",
    "        conved_2 = F.relu(self.conv_2(embedded).squeeze(3)) # [batch, n_filters, sent_len-3]\n",
    "            \n",
    "        pooled_0 = F.max_pool1d(conved_0, conved_0.shape[2]).squeeze(2) # [batch, n_filters]\n",
    "        pooled_1 = F.max_pool1d(conved_1, conved_1.shape[2]).squeeze(2) # [batch, n_filters]\n",
    "        pooled_2 = F.max_pool1d(conved_2, conved_2.shape[2]).squeeze(2) # [batch, n_filters]\n",
    "        \n",
    "        cat = self.dropout(torch.cat((pooled_0, pooled_1, pooled_2), dim=1)) # [batch, 3*n_filters]\n",
    "        \n",
    "        return self.fc(cat)"
   ]
  },
  {
   "cell_type": "code",
   "execution_count": 15,
   "id": "72e630fd",
   "metadata": {},
   "outputs": [],
   "source": [
    "# это код с ниса Семена Сорокина\n",
    "\n",
    "def train_model(model, criterion, optimizer, epochs, train_loader, valid_loader):\n",
    "    \n",
    "    model = model.to(device)    \n",
    "    criterion = criterion.to(device)\n",
    "\n",
    "    losses = []\n",
    "    best_test_loss = 10.\n",
    "\n",
    "    test_f1 = []\n",
    "\n",
    "    for n_epoch in tqdm(range(epochs)):\n",
    "\n",
    "        train_losses = []\n",
    "        test_losses = []\n",
    "\n",
    "        model.train()\n",
    "\n",
    "        for y, data in train_loader:\n",
    "\n",
    "            data = data.to(device)\n",
    "            y = torch.tensor(y, dtype=torch.float32)\n",
    "            y = y.to(device) # [batch]\n",
    "            \n",
    "            optimizer.zero_grad()\n",
    "\n",
    "            pred = torch.squeeze(model(data))\n",
    "            loss = criterion(pred, y)\n",
    "\n",
    "            loss.backward()\n",
    "            optimizer.step()\n",
    "\n",
    "            train_losses.append(loss.item())\n",
    "            losses.append(loss.item())\n",
    "\n",
    "        model.eval()\n",
    "\n",
    "        for y, data in valid_loader:\n",
    "\n",
    "            data = data.to(device)\n",
    "            y = torch.tensor(y, dtype=torch.float32)\n",
    "\n",
    "            with torch.no_grad():\n",
    "\n",
    "\n",
    "                pred = torch.squeeze(model(data))\n",
    "                pred = pred.cpu()\n",
    "                y = y.cpu()\n",
    "\n",
    "                loss = criterion(pred, y)\n",
    "                test_losses.append(loss.item())\n",
    "\n",
    "        mean_test_loss = np.mean(test_losses)\n",
    "\n",
    "        print()\n",
    "        print('Losses: train - {:.3f}, test - {:.3f}'.format(np.mean(train_losses), mean_test_loss))"
   ]
  },
  {
   "cell_type": "code",
   "execution_count": 16,
   "id": "038a2ea4",
   "metadata": {},
   "outputs": [],
   "source": [
    "def binary_accuracy(preds, y):\n",
    "    rounded_preds = torch.round(F.sigmoid(preds))\n",
    "    correct = (rounded_preds == y).float()\n",
    "    acc = correct.sum() / len(correct)\n",
    "    return acc\n",
    "\n",
    "\n",
    "def test_accuracy(model, test_loader):\n",
    "    test_targets = []\n",
    "    test_losses = []\n",
    "    criterion = torch.nn.BCEWithLogitsLoss().to(device)\n",
    "    preds = []\n",
    "\n",
    "    for y, d in test_loader:\n",
    "\n",
    "        d = d.to(device)\n",
    "        y = torch.tensor(y, dtype=torch.float32)\n",
    "\n",
    "        with torch.no_grad():\n",
    "\n",
    "            pred = torch.squeeze(model(d))\n",
    "            pred = pred.cpu()\n",
    "            preds.append(pred)\n",
    "            test_targets.append(y)\n",
    "\n",
    "            loss = criterion(pred, y)\n",
    "            test_losses.append(loss.item())\n",
    "        \n",
    "        \n",
    "    print('accuracy: ', binary_accuracy(torch.cat(preds), torch.cat(test_targets)))"
   ]
  },
  {
   "cell_type": "code",
   "execution_count": 17,
   "id": "8ece9dc5",
   "metadata": {},
   "outputs": [],
   "source": [
    "def main(data, test_data, wv):\n",
    "    \n",
    "    # split data into train and valid\n",
    "    valid_data = data.sample(frac = 0.12)\n",
    "    data = data.drop(valid_data.index)\n",
    "    \n",
    "    # embedding\n",
    "    embeddings, embedding_dim, proc_train, proc_valid, proc_test = prepare_embeddings(model=wv, \n",
    "                                                                                     train=data, \n",
    "                                                                                     valid=valid_data,\n",
    "                                                                                     test=test_data)\n",
    "    \n",
    "    # padding\n",
    "    proc_train = [padding(row) for row in proc_train]\n",
    "    proc_valid = [padding(row) for row in proc_valid]\n",
    "    proc_test = [padding(row) for row in proc_test]\n",
    "    \n",
    "    # make dataloaders\n",
    "    train_dataset = GendersDataset(proc_train, data['labels'])\n",
    "    train_loader = DataLoader(train_dataset, batch_size=64)\n",
    "\n",
    "    valid_dataset = GendersDataset(proc_valid, valid_data['labels'])\n",
    "    valid_loader = DataLoader(valid_dataset, batch_size=64)\n",
    "\n",
    "    test_dataset = GendersDataset(proc_test, test_data['labels'])\n",
    "    test_loader = DataLoader(test_dataset, batch_size=64)\n",
    "    \n",
    "    \n",
    "    # training\n",
    "    model = CNN(embeddings, 300, 13, [2, 3, 4], 1, 0.25)\n",
    "    train_model(model=model, \n",
    "                criterion=torch.nn.BCEWithLogitsLoss(),\n",
    "                optimizer=torch.optim.Adam(params=model.parameters()),\n",
    "                epochs=50,\n",
    "                train_loader=train_loader,\n",
    "                valid_loader=valid_loader)\n",
    "    \n",
    "    # accuracy\n",
    "    test_accuracy(model, test_loader)"
   ]
  },
  {
   "cell_type": "code",
   "execution_count": 18,
   "id": "0dadd9b3",
   "metadata": {},
   "outputs": [
    {
     "data": {
      "application/vnd.jupyter.widget-view+json": {
       "model_id": "c00a7f834104445bb8b548f17cef7ac7",
       "version_major": 2,
       "version_minor": 0
      },
      "text/plain": [
       "0it [00:00, ?it/s]"
      ]
     },
     "metadata": {},
     "output_type": "display_data"
    },
    {
     "data": {
      "application/vnd.jupyter.widget-view+json": {
       "model_id": "060cada4f5a04038a5faed1da7feee3e",
       "version_major": 2,
       "version_minor": 0
      },
      "text/plain": [
       "0it [00:00, ?it/s]"
      ]
     },
     "metadata": {},
     "output_type": "display_data"
    },
    {
     "data": {
      "application/vnd.jupyter.widget-view+json": {
       "model_id": "a7d10ed2caca4bb2b81761635c371200",
       "version_major": 2,
       "version_minor": 0
      },
      "text/plain": [
       "0it [00:00, ?it/s]"
      ]
     },
     "metadata": {},
     "output_type": "display_data"
    },
    {
     "name": "stderr",
     "output_type": "stream",
     "text": [
      "/tmp/ipykernel_1703314/274856007.py:44: DeprecationWarning: Call to deprecated `word_vec` (Use get_vector instead).\n",
      "  embeddings[index] = model.word_vec(word)\n",
      "/tmp/ipykernel_1703314/2426756907.py:4: UserWarning: To copy construct from a tensor, it is recommended to use sourceTensor.clone().detach() or sourceTensor.clone().detach().requires_grad_(True), rather than torch.tensor(sourceTensor).\n",
      "  self.data = [torch.tensor(row, dtype=torch.int64) for row in data]\n"
     ]
    },
    {
     "data": {
      "application/vnd.jupyter.widget-view+json": {
       "model_id": "a0c45156b31840e9b6fe57642f473976",
       "version_major": 2,
       "version_minor": 0
      },
      "text/plain": [
       "  0%|          | 0/50 [00:00<?, ?it/s]"
      ]
     },
     "metadata": {},
     "output_type": "display_data"
    },
    {
     "name": "stderr",
     "output_type": "stream",
     "text": [
      "/tmp/ipykernel_1703314/2323773639.py:23: UserWarning: To copy construct from a tensor, it is recommended to use sourceTensor.clone().detach() or sourceTensor.clone().detach().requires_grad_(True), rather than torch.tensor(sourceTensor).\n",
      "  y = torch.tensor(y, dtype=torch.float32)\n",
      "/tmp/ipykernel_1703314/2323773639.py:42: UserWarning: To copy construct from a tensor, it is recommended to use sourceTensor.clone().detach() or sourceTensor.clone().detach().requires_grad_(True), rather than torch.tensor(sourceTensor).\n",
      "  y = torch.tensor(y, dtype=torch.float32)\n"
     ]
    },
    {
     "name": "stdout",
     "output_type": "stream",
     "text": [
      "\n",
      "Losses: train - 0.464, test - 3.139\n",
      "\n",
      "Losses: train - 1.011, test - 1.483\n",
      "\n",
      "Losses: train - 0.770, test - 1.520\n",
      "\n",
      "Losses: train - 0.835, test - 0.744\n",
      "\n",
      "Losses: train - 0.686, test - 0.739\n",
      "\n",
      "Losses: train - 0.655, test - 1.141\n",
      "\n",
      "Losses: train - 0.728, test - 0.747\n",
      "\n",
      "Losses: train - 0.656, test - 0.763\n",
      "\n",
      "Losses: train - 0.650, test - 0.782\n",
      "\n",
      "Losses: train - 0.639, test - 0.830\n",
      "\n",
      "Losses: train - 0.635, test - 0.775\n",
      "\n",
      "Losses: train - 0.605, test - 1.204\n",
      "\n",
      "Losses: train - 0.643, test - 0.820\n",
      "\n",
      "Losses: train - 0.607, test - 0.807\n",
      "\n",
      "Losses: train - 0.595, test - 0.803\n",
      "\n",
      "Losses: train - 0.588, test - 0.880\n",
      "\n",
      "Losses: train - 0.584, test - 0.837\n",
      "\n",
      "Losses: train - 0.583, test - 0.819\n",
      "\n",
      "Losses: train - 0.566, test - 0.875\n",
      "\n",
      "Losses: train - 0.571, test - 0.989\n",
      "\n",
      "Losses: train - 0.563, test - 0.841\n",
      "\n",
      "Losses: train - 0.545, test - 0.838\n",
      "\n",
      "Losses: train - 0.538, test - 0.871\n",
      "\n",
      "Losses: train - 0.531, test - 0.869\n",
      "\n",
      "Losses: train - 0.525, test - 0.908\n",
      "\n",
      "Losses: train - 0.516, test - 0.941\n",
      "\n",
      "Losses: train - 0.513, test - 0.882\n",
      "\n",
      "Losses: train - 0.515, test - 1.002\n",
      "\n",
      "Losses: train - 0.500, test - 0.946\n",
      "\n",
      "Losses: train - 0.491, test - 0.956\n",
      "\n",
      "Losses: train - 0.484, test - 0.962\n",
      "\n",
      "Losses: train - 0.481, test - 1.032\n",
      "\n",
      "Losses: train - 0.474, test - 0.997\n",
      "\n",
      "Losses: train - 0.467, test - 0.977\n",
      "\n",
      "Losses: train - 0.460, test - 0.976\n",
      "\n",
      "Losses: train - 0.455, test - 1.018\n",
      "\n",
      "Losses: train - 0.449, test - 1.001\n",
      "\n",
      "Losses: train - 0.440, test - 1.050\n",
      "\n",
      "Losses: train - 0.438, test - 1.014\n",
      "\n",
      "Losses: train - 0.434, test - 1.132\n",
      "\n",
      "Losses: train - 0.424, test - 1.071\n",
      "\n",
      "Losses: train - 0.417, test - 1.080\n",
      "\n",
      "Losses: train - 0.418, test - 1.072\n",
      "\n",
      "Losses: train - 0.412, test - 1.126\n",
      "\n",
      "Losses: train - 0.403, test - 1.115\n",
      "\n",
      "Losses: train - 0.399, test - 1.139\n",
      "\n",
      "Losses: train - 0.397, test - 1.155\n",
      "\n",
      "Losses: train - 0.393, test - 1.142\n",
      "\n",
      "Losses: train - 0.388, test - 1.168\n",
      "\n",
      "Losses: train - 0.383, test - 1.155\n",
      "accuracy:  tensor(0.5685)\n"
     ]
    },
    {
     "name": "stderr",
     "output_type": "stream",
     "text": [
      "/tmp/ipykernel_1703314/2416813087.py:17: UserWarning: To copy construct from a tensor, it is recommended to use sourceTensor.clone().detach() or sourceTensor.clone().detach().requires_grad_(True), rather than torch.tensor(sourceTensor).\n",
      "  y = torch.tensor(y, dtype=torch.float32)\n"
     ]
    }
   ],
   "source": [
    "main(data=data, test_data=test_data, wv=wv)"
   ]
  }
 ],
 "metadata": {
  "kernelspec": {
   "display_name": "Python 3 (ipykernel)",
   "language": "python",
   "name": "python3"
  },
  "language_info": {
   "codemirror_mode": {
    "name": "ipython",
    "version": 3
   },
   "file_extension": ".py",
   "mimetype": "text/x-python",
   "name": "python",
   "nbconvert_exporter": "python",
   "pygments_lexer": "ipython3",
   "version": "3.10.6"
  }
 },
 "nbformat": 4,
 "nbformat_minor": 5
}
